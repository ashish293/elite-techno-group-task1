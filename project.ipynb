{
 "cells": [
  {
   "cell_type": "markdown",
   "source": [
    "## Local file Operation"
   ],
   "metadata": {}
  },
  {
   "cell_type": "code",
   "execution_count": 1,
   "source": [
    "import json\r\n",
    "inventory = \"\"\r\n",
    "\r\n",
    "def getRecords():\r\n",
    "  with open(\"Inventory.json\") as f:\r\n",
    "    js = f.read()\r\n",
    "    global inventory\r\n",
    "    inventory = json.loads(js)\r\n",
    "\r\n",
    "def updateRecords():\r\n",
    "  with open(\"Inventory.json\", \"w\") as f:\r\n",
    "    js = json.dumps(inventory)\r\n",
    "    f.write(js)\r\n",
    "\r\n",
    "getRecords()"
   ],
   "outputs": [],
   "metadata": {}
  },
  {
   "cell_type": "markdown",
   "source": [
    "## Buy function for buy operation"
   ],
   "metadata": {}
  },
  {
   "cell_type": "code",
   "execution_count": 2,
   "source": [
    "\r\n",
    "def buy(id, quant):\r\n",
    "  item = inventory[id]\r\n",
    "  if(item['quantity'] == 0):\r\n",
    "    print(\"Sorry, we don't have this item now\")\r\n",
    "  elif(item['quantity']<quant):\r\n",
    "    print(\"Sorry, we have only ${} product\".format(item['quantity']))\r\n",
    "  else:\r\n",
    "    item['quantity'] = item['quantity']-quant\r\n",
    "    print(\"*\"*20)\r\n",
    "    print(\"Product id: \" + id)\r\n",
    "    print(\"Name: \" + item['name'])\r\n",
    "    print(\"Brand: \" + item['brand'])\r\n",
    "    print(\"Expiry: \" + item['expiry'])\r\n",
    "    print(\"Price: \" + str(item['price']))\r\n",
    "    print(\"Quantity: \" + str(quant))\r\n",
    "    print(\"-\"*20)\r\n",
    "    print(\"Bill: \" + str(item['price']*quant))\r\n",
    "    print(\"*\"*20)\r\n",
    "    updateRecords()"
   ],
   "outputs": [],
   "metadata": {}
  },
  {
   "cell_type": "code",
   "execution_count": 3,
   "source": [
    "id = input(\"Enter Product ID: \")\r\n",
    "quantity = int(input(\"Quantity: \"))\r\n",
    "buy(id, quantity)"
   ],
   "outputs": [
    {
     "output_type": "stream",
     "name": "stdout",
     "text": [
      "********************\n",
      "Product id: 1002\n",
      "Name: Good day\n",
      "Brand: Britania\n",
      "Price: 30\n",
      "Quantity: 5\n",
      "--------------------\n",
      "Bill: 150\n",
      "********************\n"
     ]
    }
   ],
   "metadata": {}
  },
  {
   "cell_type": "code",
   "execution_count": null,
   "source": [],
   "outputs": [],
   "metadata": {}
  }
 ],
 "metadata": {
  "orig_nbformat": 4,
  "language_info": {
   "name": "python",
   "version": "3.8.3",
   "mimetype": "text/x-python",
   "codemirror_mode": {
    "name": "ipython",
    "version": 3
   },
   "pygments_lexer": "ipython3",
   "nbconvert_exporter": "python",
   "file_extension": ".py"
  },
  "kernelspec": {
   "name": "python3",
   "display_name": "Python 3.8.3 64-bit ('base': conda)"
  },
  "interpreter": {
   "hash": "b3ba2566441a7c06988d0923437866b63cedc61552a5af99d1f4fb67d367b25f"
  }
 },
 "nbformat": 4,
 "nbformat_minor": 2
}